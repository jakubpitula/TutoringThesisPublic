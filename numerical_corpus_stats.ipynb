{
 "cells": [
  {
   "cell_type": "code",
   "execution_count": 2,
   "metadata": {
    "collapsed": false,
    "jupyter": {
     "outputs_hidden": false
    },
    "pycharm": {
     "name": "#%%\n"
    }
   },
   "outputs": [
    {
     "data": {
      "text/html": [
       "<div>\n",
       "<style scoped>\n",
       "    .dataframe tbody tr th:only-of-type {\n",
       "        vertical-align: middle;\n",
       "    }\n",
       "\n",
       "    .dataframe tbody tr th {\n",
       "        vertical-align: top;\n",
       "    }\n",
       "\n",
       "    .dataframe thead th {\n",
       "        text-align: right;\n",
       "    }\n",
       "</style>\n",
       "<table border=\"1\" class=\"dataframe\">\n",
       "  <thead>\n",
       "    <tr style=\"text-align: right;\">\n",
       "      <th></th>\n",
       "      <th>timestamp</th>\n",
       "      <th>user.id</th>\n",
       "      <th>role</th>\n",
       "      <th>turn.number</th>\n",
       "      <th>anonymised</th>\n",
       "      <th>edited</th>\n",
       "      <th>responding.to</th>\n",
       "      <th>sequence</th>\n",
       "      <th>seq.type</th>\n",
       "      <th>focus</th>\n",
       "      <th>resource</th>\n",
       "      <th>assessment</th>\n",
       "      <th>nWords</th>\n",
       "    </tr>\n",
       "  </thead>\n",
       "  <tbody>\n",
       "    <tr>\n",
       "      <th>0</th>\n",
       "      <td>2019-11-17 12:00:08</td>\n",
       "      <td>teacher001</td>\n",
       "      <td>teacher</td>\n",
       "      <td>1</td>\n",
       "      <td>Hi &lt;STUDENT&gt;, hope I didn't get you up too early!</td>\n",
       "      <td>Hi &lt;STUDENT&gt;, hope I didn't get you up too early!</td>\n",
       "      <td>NaN</td>\n",
       "      <td>1.0</td>\n",
       "      <td>opening</td>\n",
       "      <td>NaN</td>\n",
       "      <td>NaN</td>\n",
       "      <td>NaN</td>\n",
       "      <td>10</td>\n",
       "    </tr>\n",
       "    <tr>\n",
       "      <th>2</th>\n",
       "      <td>2019-11-17 12:01:37</td>\n",
       "      <td>teacher001</td>\n",
       "      <td>teacher</td>\n",
       "      <td>3</td>\n",
       "      <td>Ah OK, so good practice then...is that an IELT...</td>\n",
       "      <td>Ah OK, so good practice then...is that an IELT...</td>\n",
       "      <td>NaN</td>\n",
       "      <td>2.0</td>\n",
       "      <td>topic opening</td>\n",
       "      <td>NaN</td>\n",
       "      <td>NaN</td>\n",
       "      <td>NaN</td>\n",
       "      <td>10</td>\n",
       "    </tr>\n",
       "    <tr>\n",
       "      <th>4</th>\n",
       "      <td>2019-11-17 12:02:11</td>\n",
       "      <td>teacher001</td>\n",
       "      <td>teacher</td>\n",
       "      <td>5</td>\n",
       "      <td>I've lost track of how many you've done</td>\n",
       "      <td>I've lost track of how many you've done</td>\n",
       "      <td>NaN</td>\n",
       "      <td>NaN</td>\n",
       "      <td>NaN</td>\n",
       "      <td>NaN</td>\n",
       "      <td>NaN</td>\n",
       "      <td>NaN</td>\n",
       "      <td>8</td>\n",
       "    </tr>\n",
       "    <tr>\n",
       "      <th>6</th>\n",
       "      <td>2019-11-17 12:03:55</td>\n",
       "      <td>teacher001</td>\n",
       "      <td>teacher</td>\n",
       "      <td>7</td>\n",
       "      <td>Do you mean get a score you get in practice te...</td>\n",
       "      <td>Do you mean get a score you get in practice te...</td>\n",
       "      <td>NaN</td>\n",
       "      <td>NaN</td>\n",
       "      <td>NaN</td>\n",
       "      <td>NaN</td>\n",
       "      <td>NaN</td>\n",
       "      <td>NaN</td>\n",
       "      <td>11</td>\n",
       "    </tr>\n",
       "    <tr>\n",
       "      <th>8</th>\n",
       "      <td>2019-11-17 12:05:20</td>\n",
       "      <td>teacher001</td>\n",
       "      <td>teacher</td>\n",
       "      <td>9</td>\n",
       "      <td>Wow that's really good - well done...you've de...</td>\n",
       "      <td>Wow that's really good - well done...you've de...</td>\n",
       "      <td>NaN</td>\n",
       "      <td>NaN</td>\n",
       "      <td>NaN</td>\n",
       "      <td>NaN</td>\n",
       "      <td>NaN</td>\n",
       "      <td>NaN</td>\n",
       "      <td>22</td>\n",
       "    </tr>\n",
       "    <tr>\n",
       "      <th>...</th>\n",
       "      <td>...</td>\n",
       "      <td>...</td>\n",
       "      <td>...</td>\n",
       "      <td>...</td>\n",
       "      <td>...</td>\n",
       "      <td>...</td>\n",
       "      <td>...</td>\n",
       "      <td>...</td>\n",
       "      <td>...</td>\n",
       "      <td>...</td>\n",
       "      <td>...</td>\n",
       "      <td>...</td>\n",
       "      <td>...</td>\n",
       "    </tr>\n",
       "    <tr>\n",
       "      <th>41463</th>\n",
       "      <td>2021-06-18 10:29:02</td>\n",
       "      <td>teacher008</td>\n",
       "      <td>teacher</td>\n",
       "      <td>176</td>\n",
       "      <td>Well, thank you very much for contributing to ...</td>\n",
       "      <td>Well, thank you very much for contributing to ...</td>\n",
       "      <td>NaN</td>\n",
       "      <td>NaN</td>\n",
       "      <td>NaN</td>\n",
       "      <td>NaN</td>\n",
       "      <td>NaN</td>\n",
       "      <td>NaN</td>\n",
       "      <td>24</td>\n",
       "    </tr>\n",
       "    <tr>\n",
       "      <th>41464</th>\n",
       "      <td>2021-06-18 10:29:11</td>\n",
       "      <td>teacher008</td>\n",
       "      <td>teacher</td>\n",
       "      <td>177</td>\n",
       "      <td>Me too, I've really enjoyed them!</td>\n",
       "      <td>Me too, I've really enjoyed them!</td>\n",
       "      <td>175.0</td>\n",
       "      <td>NaN</td>\n",
       "      <td>NaN</td>\n",
       "      <td>NaN</td>\n",
       "      <td>NaN</td>\n",
       "      <td>NaN</td>\n",
       "      <td>6</td>\n",
       "    </tr>\n",
       "    <tr>\n",
       "      <th>41466</th>\n",
       "      <td>2021-06-18 10:29:31</td>\n",
       "      <td>teacher008</td>\n",
       "      <td>teacher</td>\n",
       "      <td>179</td>\n",
       "      <td>You're very welcome, and thank you!</td>\n",
       "      <td>You're very welcome, and thank you!</td>\n",
       "      <td>NaN</td>\n",
       "      <td>NaN</td>\n",
       "      <td>NaN</td>\n",
       "      <td>NaN</td>\n",
       "      <td>NaN</td>\n",
       "      <td>NaN</td>\n",
       "      <td>6</td>\n",
       "    </tr>\n",
       "    <tr>\n",
       "      <th>41468</th>\n",
       "      <td>2021-06-18 10:29:48</td>\n",
       "      <td>teacher008</td>\n",
       "      <td>teacher</td>\n",
       "      <td>181</td>\n",
       "      <td>Take care, and speak to you later! xx</td>\n",
       "      <td>Take care, and speak to you later! xx</td>\n",
       "      <td>NaN</td>\n",
       "      <td>NaN</td>\n",
       "      <td>NaN</td>\n",
       "      <td>NaN</td>\n",
       "      <td>NaN</td>\n",
       "      <td>NaN</td>\n",
       "      <td>8</td>\n",
       "    </tr>\n",
       "    <tr>\n",
       "      <th>41471</th>\n",
       "      <td>2021-06-18 10:30:15</td>\n",
       "      <td>teacher008</td>\n",
       "      <td>teacher</td>\n",
       "      <td>184</td>\n",
       "      <td>Bye &lt;STUDENT&gt; :))</td>\n",
       "      <td>Bye &lt;STUDENT&gt; :))</td>\n",
       "      <td>NaN</td>\n",
       "      <td>NaN</td>\n",
       "      <td>NaN</td>\n",
       "      <td>NaN</td>\n",
       "      <td>NaN</td>\n",
       "      <td>B2</td>\n",
       "      <td>3</td>\n",
       "    </tr>\n",
       "  </tbody>\n",
       "</table>\n",
       "<p>22130 rows × 13 columns</p>\n",
       "</div>"
      ],
      "text/plain": [
       "                 timestamp     user.id     role  turn.number  \\\n",
       "0      2019-11-17 12:00:08  teacher001  teacher            1   \n",
       "2      2019-11-17 12:01:37  teacher001  teacher            3   \n",
       "4      2019-11-17 12:02:11  teacher001  teacher            5   \n",
       "6      2019-11-17 12:03:55  teacher001  teacher            7   \n",
       "8      2019-11-17 12:05:20  teacher001  teacher            9   \n",
       "...                    ...         ...      ...          ...   \n",
       "41463  2021-06-18 10:29:02  teacher008  teacher          176   \n",
       "41464  2021-06-18 10:29:11  teacher008  teacher          177   \n",
       "41466  2021-06-18 10:29:31  teacher008  teacher          179   \n",
       "41468  2021-06-18 10:29:48  teacher008  teacher          181   \n",
       "41471  2021-06-18 10:30:15  teacher008  teacher          184   \n",
       "\n",
       "                                              anonymised  \\\n",
       "0      Hi <STUDENT>, hope I didn't get you up too early!   \n",
       "2      Ah OK, so good practice then...is that an IELT...   \n",
       "4                I've lost track of how many you've done   \n",
       "6      Do you mean get a score you get in practice te...   \n",
       "8      Wow that's really good - well done...you've de...   \n",
       "...                                                  ...   \n",
       "41463  Well, thank you very much for contributing to ...   \n",
       "41464                  Me too, I've really enjoyed them!   \n",
       "41466                You're very welcome, and thank you!   \n",
       "41468              Take care, and speak to you later! xx   \n",
       "41471                                  Bye <STUDENT> :))   \n",
       "\n",
       "                                                  edited responding.to  \\\n",
       "0      Hi <STUDENT>, hope I didn't get you up too early!           NaN   \n",
       "2      Ah OK, so good practice then...is that an IELT...           NaN   \n",
       "4                I've lost track of how many you've done           NaN   \n",
       "6      Do you mean get a score you get in practice te...           NaN   \n",
       "8      Wow that's really good - well done...you've de...           NaN   \n",
       "...                                                  ...           ...   \n",
       "41463  Well, thank you very much for contributing to ...           NaN   \n",
       "41464                  Me too, I've really enjoyed them!         175.0   \n",
       "41466                You're very welcome, and thank you!           NaN   \n",
       "41468              Take care, and speak to you later! xx           NaN   \n",
       "41471                                  Bye <STUDENT> :))           NaN   \n",
       "\n",
       "      sequence       seq.type focus resource assessment  nWords  \n",
       "0          1.0        opening   NaN      NaN        NaN      10  \n",
       "2          2.0  topic opening   NaN      NaN        NaN      10  \n",
       "4          NaN            NaN   NaN      NaN        NaN       8  \n",
       "6          NaN            NaN   NaN      NaN        NaN      11  \n",
       "8          NaN            NaN   NaN      NaN        NaN      22  \n",
       "...        ...            ...   ...      ...        ...     ...  \n",
       "41463      NaN            NaN   NaN      NaN        NaN      24  \n",
       "41464      NaN            NaN   NaN      NaN        NaN       6  \n",
       "41466      NaN            NaN   NaN      NaN        NaN       6  \n",
       "41468      NaN            NaN   NaN      NaN        NaN       8  \n",
       "41471      NaN            NaN   NaN      NaN         B2       3  \n",
       "\n",
       "[22130 rows x 13 columns]"
      ]
     },
     "execution_count": 2,
     "metadata": {},
     "output_type": "execute_result"
    }
   ],
   "source": [
    "teacher_utterances_all = chatrooms_all[chatrooms_all['role'].str.contains('teacher')]\n",
    "student_utterances_all = chatrooms_all[chatrooms_all['role'].str.contains('student')]\n",
    "\n",
    "teacher_utterances_all"
   ]
  },
  {
   "cell_type": "code",
   "execution_count": 1,
   "metadata": {
    "collapsed": false,
    "jupyter": {
     "outputs_hidden": false
    },
    "pycharm": {
     "name": "#%%\n"
    }
   },
   "outputs": [
    {
     "name": "stdout",
     "output_type": "stream",
     "text": [
      "B1: 35\n",
      "B2: 144\n",
      "C1: 29\n",
      "C2: 52\n",
      "$: dollar\n",
      "    $ -$ --$ A$ C$ HK$ M$ NZ$ S$ U.S.$ US$\n",
      "'': closing quotation mark\n",
      "    ' ''\n",
      "(: opening parenthesis\n",
      "    ( [ {\n",
      "): closing parenthesis\n",
      "    ) ] }\n",
      ",: comma\n",
      "    ,\n",
      "--: dash\n",
      "    --\n",
      ".: sentence terminator\n",
      "    . ! ?\n",
      ":: colon or ellipsis\n",
      "    : ; ...\n",
      "CC: conjunction, coordinating\n",
      "    & 'n and both but either et for less minus neither nor or plus so\n",
      "    therefore times v. versus vs. whether yet\n",
      "CD: numeral, cardinal\n",
      "    mid-1890 nine-thirty forty-two one-tenth ten million 0.5 one forty-\n",
      "    seven 1987 twenty '79 zero two 78-degrees eighty-four IX '60s .025\n",
      "    fifteen 271,124 dozen quintillion DM2,000 ...\n",
      "DT: determiner\n",
      "    all an another any both del each either every half la many much nary\n",
      "    neither no some such that the them these this those\n",
      "EX: existential there\n",
      "    there\n",
      "FW: foreign word\n",
      "    gemeinschaft hund ich jeux habeas Haementeria Herr K'ang-si vous\n",
      "    lutihaw alai je jour objets salutaris fille quibusdam pas trop Monte\n",
      "    terram fiche oui corporis ...\n",
      "IN: preposition or conjunction, subordinating\n",
      "    astride among uppon whether out inside pro despite on by throughout\n",
      "    below within for towards near behind atop around if like until below\n",
      "    next into if beside ...\n",
      "JJ: adjective or numeral, ordinal\n",
      "    third ill-mannered pre-war regrettable oiled calamitous first separable\n",
      "    ectoplasmic battery-powered participatory fourth still-to-be-named\n",
      "    multilingual multi-disciplinary ...\n",
      "JJR: adjective, comparative\n",
      "    bleaker braver breezier briefer brighter brisker broader bumper busier\n",
      "    calmer cheaper choosier cleaner clearer closer colder commoner costlier\n",
      "    cozier creamier crunchier cuter ...\n",
      "JJS: adjective, superlative\n",
      "    calmest cheapest choicest classiest cleanest clearest closest commonest\n",
      "    corniest costliest crassest creepiest crudest cutest darkest deadliest\n",
      "    dearest deepest densest dinkiest ...\n",
      "LS: list item marker\n",
      "    A A. B B. C C. D E F First G H I J K One SP-44001 SP-44002 SP-44005\n",
      "    SP-44007 Second Third Three Two * a b c d first five four one six three\n",
      "    two\n",
      "MD: modal auxiliary\n",
      "    can cannot could couldn't dare may might must need ought shall should\n",
      "    shouldn't will would\n",
      "NN: noun, common, singular or mass\n",
      "    common-carrier cabbage knuckle-duster Casino afghan shed thermostat\n",
      "    investment slide humour falloff slick wind hyena override subhumanity\n",
      "    machinist ...\n",
      "NNP: noun, proper, singular\n",
      "    Motown Venneboerger Czestochwa Ranzer Conchita Trumplane Christos\n",
      "    Oceanside Escobar Kreisler Sawyer Cougar Yvette Ervin ODI Darryl CTCA\n",
      "    Shannon A.K.C. Meltex Liverpool ...\n",
      "NNPS: noun, proper, plural\n",
      "    Americans Americas Amharas Amityvilles Amusements Anarcho-Syndicalists\n",
      "    Andalusians Andes Andruses Angels Animals Anthony Antilles Antiques\n",
      "    Apache Apaches Apocrypha ...\n",
      "NNS: noun, common, plural\n",
      "    undergraduates scotches bric-a-brac products bodyguards facets coasts\n",
      "    divestitures storehouses designs clubs fragrances averages\n",
      "    subjectivists apprehensions muses factory-jobs ...\n",
      "PDT: pre-determiner\n",
      "    all both half many quite such sure this\n",
      "POS: genitive marker\n",
      "    ' 's\n",
      "PRP: pronoun, personal\n",
      "    hers herself him himself hisself it itself me myself one oneself ours\n",
      "    ourselves ownself self she thee theirs them themselves they thou thy us\n",
      "PRP$: pronoun, possessive\n",
      "    her his mine my our ours their thy your\n",
      "RB: adverb\n",
      "    occasionally unabatingly maddeningly adventurously professedly\n",
      "    stirringly prominently technologically magisterially predominately\n",
      "    swiftly fiscally pitilessly ...\n",
      "RBR: adverb, comparative\n",
      "    further gloomier grander graver greater grimmer harder harsher\n",
      "    healthier heavier higher however larger later leaner lengthier less-\n",
      "    perfectly lesser lonelier longer louder lower more ...\n",
      "RBS: adverb, superlative\n",
      "    best biggest bluntest earliest farthest first furthest hardest\n",
      "    heartiest highest largest least less most nearest second tightest worst\n",
      "RP: particle\n",
      "    aboard about across along apart around aside at away back before behind\n",
      "    by crop down ever fast for forth from go high i.e. in into just later\n",
      "    low more off on open out over per pie raising start teeth that through\n",
      "    under unto up up-pp upon whole with you\n",
      "SYM: symbol\n",
      "    % & ' '' ''. ) ). * + ,. < = > @ A[fj] U.S U.S.S.R * ** ***\n",
      "TO: \"to\" as preposition or infinitive marker\n",
      "    to\n",
      "UH: interjection\n",
      "    Goodbye Goody Gosh Wow Jeepers Jee-sus Hubba Hey Kee-reist Oops amen\n",
      "    huh howdy uh dammit whammo shucks heck anyways whodunnit honey golly\n",
      "    man baby diddle hush sonuvabitch ...\n",
      "VB: verb, base form\n",
      "    ask assemble assess assign assume atone attention avoid bake balkanize\n",
      "    bank begin behold believe bend benefit bevel beware bless boil bomb\n",
      "    boost brace break bring broil brush build ...\n",
      "VBD: verb, past tense\n",
      "    dipped pleaded swiped regummed soaked tidied convened halted registered\n",
      "    cushioned exacted snubbed strode aimed adopted belied figgered\n",
      "    speculated wore appreciated contemplated ...\n",
      "VBG: verb, present participle or gerund\n",
      "    telegraphing stirring focusing angering judging stalling lactating\n",
      "    hankerin' alleging veering capping approaching traveling besieging\n",
      "    encrypting interrupting erasing wincing ...\n",
      "VBN: verb, past participle\n",
      "    multihulled dilapidated aerosolized chaired languished panelized used\n",
      "    experimented flourished imitated reunifed factored condensed sheared\n",
      "    unsettled primed dubbed desired ...\n",
      "VBP: verb, present tense, not 3rd person singular\n",
      "    predominate wrap resort sue twist spill cure lengthen brush terminate\n",
      "    appear tend stray glisten obtain comprise detest tease attract\n",
      "    emphasize mold postpone sever return wag ...\n",
      "VBZ: verb, present tense, 3rd person singular\n",
      "    bases reconstructs marks mixes displeases seals carps weaves snatches\n",
      "    slumps stretches authorizes smolders pictures emerges stockpiles\n",
      "    seduces fizzes uses bolsters slaps speaks pleads ...\n",
      "WDT: WH-determiner\n",
      "    that what whatever which whichever\n",
      "WP: WH-pronoun\n",
      "    that what whatever whatsoever which who whom whosoever\n",
      "WP$: WH-pronoun, possessive\n",
      "    whose\n",
      "WRB: Wh-adverb\n",
      "    how however whence whenever where whereby whereever wherein whereof why\n",
      "``: opening quotation mark\n",
      "    ` ``\n"
     ]
    },
    {
     "name": "stderr",
     "output_type": "stream",
     "text": [
      "C:\\Users\\kuba\\AppData\\Local\\Temp\\ipykernel_5304\\305697343.py:22: FutureWarning: The behavior of DataFrame concatenation with empty or all-NA entries is deprecated. In a future version, this will no longer exclude empty or all-NA columns when determining the result dtypes. To retain the old behavior, exclude the relevant entries before the concat operation.\n",
      "  previous_utts = pd.concat(\n",
      "C:\\Users\\kuba\\AppData\\Local\\Temp\\ipykernel_5304\\305697343.py:22: FutureWarning: The behavior of DataFrame concatenation with empty or all-NA entries is deprecated. In a future version, this will no longer exclude empty or all-NA columns when determining the result dtypes. To retain the old behavior, exclude the relevant entries before the concat operation.\n",
      "  previous_utts = pd.concat(\n",
      "C:\\Users\\kuba\\AppData\\Local\\Temp\\ipykernel_5304\\3500320797.py:20: FutureWarning: The behavior of DataFrame concatenation with empty or all-NA entries is deprecated. In a future version, this will no longer exclude empty or all-NA columns when determining the result dtypes. To retain the old behavior, exclude the relevant entries before the concat operation.\n",
      "  previous_utts = pd.concat(\n",
      "C:\\Users\\kuba\\AppData\\Local\\Temp\\ipykernel_5304\\3500320797.py:20: FutureWarning: The behavior of DataFrame concatenation with empty or all-NA entries is deprecated. In a future version, this will no longer exclude empty or all-NA columns when determining the result dtypes. To retain the old behavior, exclude the relevant entries before the concat operation.\n",
      "  previous_utts = pd.concat(\n",
      "C:\\Users\\kuba\\AppData\\Local\\Temp\\ipykernel_5304\\305697343.py:22: FutureWarning: The behavior of DataFrame concatenation with empty or all-NA entries is deprecated. In a future version, this will no longer exclude empty or all-NA columns when determining the result dtypes. To retain the old behavior, exclude the relevant entries before the concat operation.\n",
      "  previous_utts = pd.concat(\n",
      "C:\\Users\\kuba\\AppData\\Local\\Temp\\ipykernel_5304\\3500320797.py:20: FutureWarning: The behavior of DataFrame concatenation with empty or all-NA entries is deprecated. In a future version, this will no longer exclude empty or all-NA columns when determining the result dtypes. To retain the old behavior, exclude the relevant entries before the concat operation.\n",
      "  previous_utts = pd.concat(\n"
     ]
    }
   ],
   "source": [
    "%run func_declarations.ipynb"
   ]
  },
  {
   "cell_type": "code",
   "execution_count": 3,
   "metadata": {
    "collapsed": false,
    "jupyter": {
     "outputs_hidden": false
    },
    "pycharm": {
     "name": "#%%\n"
    }
   },
   "outputs": [
    {
     "name": "stdout",
     "output_type": "stream",
     "text": [
      "Total utterances: 41472\n",
      "Tutor utterances: 22130 (53.36%)\n",
      "Student utterances: 19342 (46.64%)\n"
     ]
    }
   ],
   "source": [
    "print(f'Total utterances: {len(chatrooms_all)}\\nTutor utterances: {len(teacher_utterances_all)} ({(len(teacher_utterances_all)/(len(chatrooms_all)))*100:.2f}%)\\n'\n",
    "      f'Student utterances: {len(student_utterances_all)} ({(len(student_utterances_all)/(len(chatrooms_all)))*100:.2f}%)')"
   ]
  },
  {
   "cell_type": "code",
   "execution_count": 4,
   "metadata": {
    "collapsed": false,
    "jupyter": {
     "outputs_hidden": false
    },
    "pycharm": {
     "name": "#%%\n"
    }
   },
   "outputs": [
    {
     "data": {
      "text/plain": [
       "260"
      ]
     },
     "execution_count": 4,
     "metadata": {},
     "output_type": "execute_result"
    }
   ],
   "source": [
    "num_dialogues = len(chatrooms)\n",
    "num_dialogues"
   ]
  },
  {
   "cell_type": "code",
   "execution_count": 5,
   "metadata": {
    "collapsed": false,
    "jupyter": {
     "outputs_hidden": false
    },
    "pycharm": {
     "name": "#%%\n"
    }
   },
   "outputs": [
    {
     "data": {
      "text/plain": [
       "8.73876350308642"
      ]
     },
     "execution_count": 5,
     "metadata": {},
     "output_type": "execute_result"
    }
   ],
   "source": [
    "avg_utt_length = np.mean(chatrooms_all['nWords'])\n",
    "avg_utt_length"
   ]
  },
  {
   "cell_type": "code",
   "execution_count": 6,
   "metadata": {
    "collapsed": false,
    "jupyter": {
     "outputs_hidden": false
    },
    "pycharm": {
     "name": "#%%\n"
    }
   },
   "outputs": [
    {
     "data": {
      "text/plain": [
       "10.769272480795301"
      ]
     },
     "execution_count": 6,
     "metadata": {},
     "output_type": "execute_result"
    }
   ],
   "source": [
    "avg_tutor_utt_length = np.mean(teacher_utterances_all['nWords'])\n",
    "avg_tutor_utt_length"
   ]
  },
  {
   "cell_type": "code",
   "execution_count": 7,
   "metadata": {
    "collapsed": false,
    "jupyter": {
     "outputs_hidden": false
    },
    "pycharm": {
     "name": "#%%\n"
    }
   },
   "outputs": [
    {
     "data": {
      "text/plain": [
       "6.4155723296453315"
      ]
     },
     "execution_count": 7,
     "metadata": {},
     "output_type": "execute_result"
    }
   ],
   "source": [
    "avg_student_utt_length = np.mean(student_utterances_all['nWords'])\n",
    "avg_student_utt_length"
   ]
  },
  {
   "cell_type": "code",
   "execution_count": 8,
   "metadata": {
    "collapsed": false,
    "jupyter": {
     "outputs_hidden": false
    },
    "pycharm": {
     "name": "#%%\n"
    }
   },
   "outputs": [
    {
     "data": {
      "text/plain": [
       "1393.9"
      ]
     },
     "execution_count": 8,
     "metadata": {},
     "output_type": "execute_result"
    }
   ],
   "source": [
    "avg_words_per_dialogue = np.mean([np.sum(chat['nWords']) for chat in chatrooms])\n",
    "avg_words_per_dialogue"
   ]
  },
  {
   "cell_type": "code",
   "execution_count": 9,
   "metadata": {
    "collapsed": false,
    "jupyter": {
     "outputs_hidden": false
    },
    "pycharm": {
     "name": "#%%\n"
    }
   },
   "outputs": [
    {
     "data": {
      "text/plain": [
       "477.27"
      ]
     },
     "execution_count": 9,
     "metadata": {},
     "output_type": "execute_result"
    }
   ],
   "source": [
    "avg_words_per_dialogue_students = round(np.mean(metadata[\"n.student.words\"]),2)\n",
    "avg_words_per_dialogue_students"
   ]
  },
  {
   "cell_type": "code",
   "execution_count": 10,
   "metadata": {
    "collapsed": false,
    "jupyter": {
     "outputs_hidden": false
    },
    "pycharm": {
     "name": "#%%\n"
    }
   },
   "outputs": [
    {
     "data": {
      "text/plain": [
       "916.63"
      ]
     },
     "execution_count": 10,
     "metadata": {},
     "output_type": "execute_result"
    }
   ],
   "source": [
    "avg_words_per_dialogue_teachers = round(np.mean(metadata[\"n.teacher.words\"]),2)\n",
    "avg_words_per_dialogue_teachers"
   ]
  },
  {
   "cell_type": "code",
   "execution_count": 11,
   "metadata": {
    "collapsed": false,
    "jupyter": {
     "outputs_hidden": false
    },
    "pycharm": {
     "name": "#%%\n"
    }
   },
   "outputs": [
    {
     "name": "stdout",
     "output_type": "stream",
     "text": [
      "Total words: 362414\n",
      "Student words: 124090 (34.24%)\n",
      "Teacher words: 238324 (65.76%)\n"
     ]
    }
   ],
   "source": [
    "total_words = np.sum(metadata['n.words'])\n",
    "student_words = np.sum(metadata['n.student.words'])\n",
    "teacher_words = np.sum(metadata['n.teacher.words'])\n",
    "print(f'Total words: {total_words}\\nStudent words: {student_words} ({student_words/total_words*100:.2f}%)\\nTeacher words: {teacher_words} ({teacher_words/total_words*100:.2f}%)')"
   ]
  },
  {
   "cell_type": "code",
   "execution_count": 12,
   "metadata": {
    "collapsed": false,
    "jupyter": {
     "outputs_hidden": false
    },
    "pycharm": {
     "name": "#%%\n"
    }
   },
   "outputs": [
    {
     "data": {
      "text/plain": [
       "159.5076923076923"
      ]
     },
     "execution_count": 12,
     "metadata": {},
     "output_type": "execute_result"
    }
   ],
   "source": [
    "avg_utt_per_dialogue = np.mean([len(chat) for chat in chatrooms])\n",
    "avg_utt_per_dialogue"
   ]
  },
  {
   "cell_type": "markdown",
   "metadata": {
    "collapsed": false,
    "jupyter": {
     "outputs_hidden": false
    },
    "pycharm": {
     "name": "#%% md\n"
    }
   },
   "source": [
    "## Avg utterances by tutors/students per dialogue (with percentage)"
   ]
  },
  {
   "cell_type": "code",
   "execution_count": 13,
   "metadata": {
    "collapsed": false,
    "jupyter": {
     "outputs_hidden": false
    },
    "pycharm": {
     "name": "#%%\n"
    }
   },
   "outputs": [
    {
     "name": "stdout",
     "output_type": "stream",
     "text": [
      "avg_utt_per_dialogue_tutor: 85.12 (53.36%)\n",
      "avg_utt_per_dialogue_student: 74.39 (46.64%)\n"
     ]
    }
   ],
   "source": [
    "avg_utt_per_dialogue_tutor, avg_utt_per_dialogue_student = 0, 0\n",
    "for chat in chatrooms:\n",
    "    avg_utt_per_dialogue_tutor += len(chat[chat['role'].str.contains('teacher')])\n",
    "    avg_utt_per_dialogue_student += len(chat[chat['role'].str.contains('student')])\n",
    "avg_utt_per_dialogue_tutor /= len(chatrooms)\n",
    "avg_utt_per_dialogue_student /= len(chatrooms)\n",
    "avg_utt_per_dialogue_tutor_percentage = avg_utt_per_dialogue_tutor/avg_utt_per_dialogue*100\n",
    "\n",
    "print(f\"avg_utt_per_dialogue_tutor: {avg_utt_per_dialogue_tutor:.2f} ({avg_utt_per_dialogue_tutor_percentage:.2f}%)\\n\"\n",
    "      f\"avg_utt_per_dialogue_student: {avg_utt_per_dialogue_student:.2f} ({100-avg_utt_per_dialogue_tutor_percentage:.2f}%)\")"
   ]
  },
  {
   "cell_type": "markdown",
   "metadata": {
    "collapsed": false,
    "jupyter": {
     "outputs_hidden": false
    },
    "pycharm": {
     "name": "#%% md\n"
    }
   },
   "source": [
    "# Statistic per sequence type:"
   ]
  },
  {
   "cell_type": "code",
   "execution_count": 14,
   "metadata": {
    "collapsed": false,
    "jupyter": {
     "outputs_hidden": false
    },
    "pycharm": {
     "name": "#%%\n"
    }
   },
   "outputs": [
    {
     "data": {
      "text/html": [
       "<div>\n",
       "<style scoped>\n",
       "    .dataframe tbody tr th:only-of-type {\n",
       "        vertical-align: middle;\n",
       "    }\n",
       "\n",
       "    .dataframe tbody tr th {\n",
       "        vertical-align: top;\n",
       "    }\n",
       "\n",
       "    .dataframe thead th {\n",
       "        text-align: right;\n",
       "    }\n",
       "</style>\n",
       "<table border=\"1\" class=\"dataframe\">\n",
       "  <thead>\n",
       "    <tr style=\"text-align: right;\">\n",
       "      <th></th>\n",
       "      <th>topic opening</th>\n",
       "      <th>presentation</th>\n",
       "      <th>reference</th>\n",
       "      <th>non-English</th>\n",
       "      <th>admin</th>\n",
       "      <th>opening</th>\n",
       "      <th>topic development</th>\n",
       "      <th>free practice</th>\n",
       "      <th>eliciting</th>\n",
       "      <th>topic closure</th>\n",
       "      <th>...</th>\n",
       "      <th>redirection</th>\n",
       "      <th>homework</th>\n",
       "      <th>recap</th>\n",
       "      <th>repair</th>\n",
       "      <th>disruption</th>\n",
       "      <th>scaffolding</th>\n",
       "      <th>clarification</th>\n",
       "      <th>exercise</th>\n",
       "      <th>closing</th>\n",
       "      <th>revision</th>\n",
       "    </tr>\n",
       "  </thead>\n",
       "  <tbody>\n",
       "    <tr>\n",
       "      <th>Quantity (total)</th>\n",
       "      <td>NaN</td>\n",
       "      <td>NaN</td>\n",
       "      <td>NaN</td>\n",
       "      <td>NaN</td>\n",
       "      <td>NaN</td>\n",
       "      <td>NaN</td>\n",
       "      <td>NaN</td>\n",
       "      <td>NaN</td>\n",
       "      <td>NaN</td>\n",
       "      <td>NaN</td>\n",
       "      <td>...</td>\n",
       "      <td>NaN</td>\n",
       "      <td>NaN</td>\n",
       "      <td>NaN</td>\n",
       "      <td>NaN</td>\n",
       "      <td>NaN</td>\n",
       "      <td>NaN</td>\n",
       "      <td>NaN</td>\n",
       "      <td>NaN</td>\n",
       "      <td>NaN</td>\n",
       "      <td>NaN</td>\n",
       "    </tr>\n",
       "    <tr>\n",
       "      <th>Percentage (total)</th>\n",
       "      <td>NaN</td>\n",
       "      <td>NaN</td>\n",
       "      <td>NaN</td>\n",
       "      <td>NaN</td>\n",
       "      <td>NaN</td>\n",
       "      <td>NaN</td>\n",
       "      <td>NaN</td>\n",
       "      <td>NaN</td>\n",
       "      <td>NaN</td>\n",
       "      <td>NaN</td>\n",
       "      <td>...</td>\n",
       "      <td>NaN</td>\n",
       "      <td>NaN</td>\n",
       "      <td>NaN</td>\n",
       "      <td>NaN</td>\n",
       "      <td>NaN</td>\n",
       "      <td>NaN</td>\n",
       "      <td>NaN</td>\n",
       "      <td>NaN</td>\n",
       "      <td>NaN</td>\n",
       "      <td>NaN</td>\n",
       "    </tr>\n",
       "    <tr>\n",
       "      <th>Avg per dialogue (total)</th>\n",
       "      <td>NaN</td>\n",
       "      <td>NaN</td>\n",
       "      <td>NaN</td>\n",
       "      <td>NaN</td>\n",
       "      <td>NaN</td>\n",
       "      <td>NaN</td>\n",
       "      <td>NaN</td>\n",
       "      <td>NaN</td>\n",
       "      <td>NaN</td>\n",
       "      <td>NaN</td>\n",
       "      <td>...</td>\n",
       "      <td>NaN</td>\n",
       "      <td>NaN</td>\n",
       "      <td>NaN</td>\n",
       "      <td>NaN</td>\n",
       "      <td>NaN</td>\n",
       "      <td>NaN</td>\n",
       "      <td>NaN</td>\n",
       "      <td>NaN</td>\n",
       "      <td>NaN</td>\n",
       "      <td>NaN</td>\n",
       "    </tr>\n",
       "    <tr>\n",
       "      <th>Quantity (student)</th>\n",
       "      <td>NaN</td>\n",
       "      <td>NaN</td>\n",
       "      <td>NaN</td>\n",
       "      <td>NaN</td>\n",
       "      <td>NaN</td>\n",
       "      <td>NaN</td>\n",
       "      <td>NaN</td>\n",
       "      <td>NaN</td>\n",
       "      <td>NaN</td>\n",
       "      <td>NaN</td>\n",
       "      <td>...</td>\n",
       "      <td>NaN</td>\n",
       "      <td>NaN</td>\n",
       "      <td>NaN</td>\n",
       "      <td>NaN</td>\n",
       "      <td>NaN</td>\n",
       "      <td>NaN</td>\n",
       "      <td>NaN</td>\n",
       "      <td>NaN</td>\n",
       "      <td>NaN</td>\n",
       "      <td>NaN</td>\n",
       "    </tr>\n",
       "    <tr>\n",
       "      <th>Percentage (student)</th>\n",
       "      <td>NaN</td>\n",
       "      <td>NaN</td>\n",
       "      <td>NaN</td>\n",
       "      <td>NaN</td>\n",
       "      <td>NaN</td>\n",
       "      <td>NaN</td>\n",
       "      <td>NaN</td>\n",
       "      <td>NaN</td>\n",
       "      <td>NaN</td>\n",
       "      <td>NaN</td>\n",
       "      <td>...</td>\n",
       "      <td>NaN</td>\n",
       "      <td>NaN</td>\n",
       "      <td>NaN</td>\n",
       "      <td>NaN</td>\n",
       "      <td>NaN</td>\n",
       "      <td>NaN</td>\n",
       "      <td>NaN</td>\n",
       "      <td>NaN</td>\n",
       "      <td>NaN</td>\n",
       "      <td>NaN</td>\n",
       "    </tr>\n",
       "    <tr>\n",
       "      <th>Avg per dialogue (student)</th>\n",
       "      <td>NaN</td>\n",
       "      <td>NaN</td>\n",
       "      <td>NaN</td>\n",
       "      <td>NaN</td>\n",
       "      <td>NaN</td>\n",
       "      <td>NaN</td>\n",
       "      <td>NaN</td>\n",
       "      <td>NaN</td>\n",
       "      <td>NaN</td>\n",
       "      <td>NaN</td>\n",
       "      <td>...</td>\n",
       "      <td>NaN</td>\n",
       "      <td>NaN</td>\n",
       "      <td>NaN</td>\n",
       "      <td>NaN</td>\n",
       "      <td>NaN</td>\n",
       "      <td>NaN</td>\n",
       "      <td>NaN</td>\n",
       "      <td>NaN</td>\n",
       "      <td>NaN</td>\n",
       "      <td>NaN</td>\n",
       "    </tr>\n",
       "    <tr>\n",
       "      <th>Quantity (teacher)</th>\n",
       "      <td>NaN</td>\n",
       "      <td>NaN</td>\n",
       "      <td>NaN</td>\n",
       "      <td>NaN</td>\n",
       "      <td>NaN</td>\n",
       "      <td>NaN</td>\n",
       "      <td>NaN</td>\n",
       "      <td>NaN</td>\n",
       "      <td>NaN</td>\n",
       "      <td>NaN</td>\n",
       "      <td>...</td>\n",
       "      <td>NaN</td>\n",
       "      <td>NaN</td>\n",
       "      <td>NaN</td>\n",
       "      <td>NaN</td>\n",
       "      <td>NaN</td>\n",
       "      <td>NaN</td>\n",
       "      <td>NaN</td>\n",
       "      <td>NaN</td>\n",
       "      <td>NaN</td>\n",
       "      <td>NaN</td>\n",
       "    </tr>\n",
       "    <tr>\n",
       "      <th>Percentage (teacher)</th>\n",
       "      <td>NaN</td>\n",
       "      <td>NaN</td>\n",
       "      <td>NaN</td>\n",
       "      <td>NaN</td>\n",
       "      <td>NaN</td>\n",
       "      <td>NaN</td>\n",
       "      <td>NaN</td>\n",
       "      <td>NaN</td>\n",
       "      <td>NaN</td>\n",
       "      <td>NaN</td>\n",
       "      <td>...</td>\n",
       "      <td>NaN</td>\n",
       "      <td>NaN</td>\n",
       "      <td>NaN</td>\n",
       "      <td>NaN</td>\n",
       "      <td>NaN</td>\n",
       "      <td>NaN</td>\n",
       "      <td>NaN</td>\n",
       "      <td>NaN</td>\n",
       "      <td>NaN</td>\n",
       "      <td>NaN</td>\n",
       "    </tr>\n",
       "    <tr>\n",
       "      <th>Avg per dialogue (teacher)</th>\n",
       "      <td>NaN</td>\n",
       "      <td>NaN</td>\n",
       "      <td>NaN</td>\n",
       "      <td>NaN</td>\n",
       "      <td>NaN</td>\n",
       "      <td>NaN</td>\n",
       "      <td>NaN</td>\n",
       "      <td>NaN</td>\n",
       "      <td>NaN</td>\n",
       "      <td>NaN</td>\n",
       "      <td>...</td>\n",
       "      <td>NaN</td>\n",
       "      <td>NaN</td>\n",
       "      <td>NaN</td>\n",
       "      <td>NaN</td>\n",
       "      <td>NaN</td>\n",
       "      <td>NaN</td>\n",
       "      <td>NaN</td>\n",
       "      <td>NaN</td>\n",
       "      <td>NaN</td>\n",
       "      <td>NaN</td>\n",
       "    </tr>\n",
       "  </tbody>\n",
       "</table>\n",
       "<p>9 rows × 21 columns</p>\n",
       "</div>"
      ],
      "text/plain": [
       "                           topic opening presentation reference non-English  \\\n",
       "Quantity (total)                     NaN          NaN       NaN         NaN   \n",
       "Percentage (total)                   NaN          NaN       NaN         NaN   \n",
       "Avg per dialogue (total)             NaN          NaN       NaN         NaN   \n",
       "Quantity (student)                   NaN          NaN       NaN         NaN   \n",
       "Percentage (student)                 NaN          NaN       NaN         NaN   \n",
       "Avg per dialogue (student)           NaN          NaN       NaN         NaN   \n",
       "Quantity (teacher)                   NaN          NaN       NaN         NaN   \n",
       "Percentage (teacher)                 NaN          NaN       NaN         NaN   \n",
       "Avg per dialogue (teacher)           NaN          NaN       NaN         NaN   \n",
       "\n",
       "                           admin opening topic development free practice  \\\n",
       "Quantity (total)             NaN     NaN               NaN           NaN   \n",
       "Percentage (total)           NaN     NaN               NaN           NaN   \n",
       "Avg per dialogue (total)     NaN     NaN               NaN           NaN   \n",
       "Quantity (student)           NaN     NaN               NaN           NaN   \n",
       "Percentage (student)         NaN     NaN               NaN           NaN   \n",
       "Avg per dialogue (student)   NaN     NaN               NaN           NaN   \n",
       "Quantity (teacher)           NaN     NaN               NaN           NaN   \n",
       "Percentage (teacher)         NaN     NaN               NaN           NaN   \n",
       "Avg per dialogue (teacher)   NaN     NaN               NaN           NaN   \n",
       "\n",
       "                           eliciting topic closure  ... redirection homework  \\\n",
       "Quantity (total)                 NaN           NaN  ...         NaN      NaN   \n",
       "Percentage (total)               NaN           NaN  ...         NaN      NaN   \n",
       "Avg per dialogue (total)         NaN           NaN  ...         NaN      NaN   \n",
       "Quantity (student)               NaN           NaN  ...         NaN      NaN   \n",
       "Percentage (student)             NaN           NaN  ...         NaN      NaN   \n",
       "Avg per dialogue (student)       NaN           NaN  ...         NaN      NaN   \n",
       "Quantity (teacher)               NaN           NaN  ...         NaN      NaN   \n",
       "Percentage (teacher)             NaN           NaN  ...         NaN      NaN   \n",
       "Avg per dialogue (teacher)       NaN           NaN  ...         NaN      NaN   \n",
       "\n",
       "                           recap repair disruption scaffolding clarification  \\\n",
       "Quantity (total)             NaN    NaN        NaN         NaN           NaN   \n",
       "Percentage (total)           NaN    NaN        NaN         NaN           NaN   \n",
       "Avg per dialogue (total)     NaN    NaN        NaN         NaN           NaN   \n",
       "Quantity (student)           NaN    NaN        NaN         NaN           NaN   \n",
       "Percentage (student)         NaN    NaN        NaN         NaN           NaN   \n",
       "Avg per dialogue (student)   NaN    NaN        NaN         NaN           NaN   \n",
       "Quantity (teacher)           NaN    NaN        NaN         NaN           NaN   \n",
       "Percentage (teacher)         NaN    NaN        NaN         NaN           NaN   \n",
       "Avg per dialogue (teacher)   NaN    NaN        NaN         NaN           NaN   \n",
       "\n",
       "                           exercise closing revision  \n",
       "Quantity (total)                NaN     NaN      NaN  \n",
       "Percentage (total)              NaN     NaN      NaN  \n",
       "Avg per dialogue (total)        NaN     NaN      NaN  \n",
       "Quantity (student)              NaN     NaN      NaN  \n",
       "Percentage (student)            NaN     NaN      NaN  \n",
       "Avg per dialogue (student)      NaN     NaN      NaN  \n",
       "Quantity (teacher)              NaN     NaN      NaN  \n",
       "Percentage (teacher)            NaN     NaN      NaN  \n",
       "Avg per dialogue (teacher)      NaN     NaN      NaN  \n",
       "\n",
       "[9 rows x 21 columns]"
      ]
     },
     "execution_count": 14,
     "metadata": {},
     "output_type": "execute_result"
    }
   ],
   "source": [
    "seq_type_stats = pd.DataFrame(columns=list(unique_seq_types), index=['Quantity (total)', 'Percentage (total)', 'Avg per dialogue (total)', 'Quantity (student)','Percentage (student)', 'Avg per dialogue (student)','Quantity (teacher)', 'Percentage (teacher)', 'Avg per dialogue (teacher)'])\n",
    "# seq_type_stats_student = pd.DataFrame(columns=unique_seq_types, index=['Quantity', 'Percentage', 'Avg per dialogue'])\n",
    "# seq_type_stats_teacher = pd.DataFrame(columns=unique_seq_types, index=['Quantity', 'Percentage', 'Avg per dialogue'])\n",
    "seq_type_stats"
   ]
  },
  {
   "cell_type": "code",
   "execution_count": 15,
   "metadata": {
    "collapsed": false,
    "jupyter": {
     "outputs_hidden": false
    },
    "pycharm": {
     "name": "#%%\n"
    }
   },
   "outputs": [
    {
     "name": "stdout",
     "output_type": "stream",
     "text": [
      "topic opening:\n",
      " Total: 726 (1.75%), avg per dialogue = 2.79\n",
      " Student: 173 (0.89%), avg per dialogue = 0.67\n",
      " Teacher: 553 (2.5%), avg per dialogue = 2.13\n",
      "presentation:\n",
      " Total: 460 (1.11%), avg per dialogue = 1.77\n",
      " Student: 2 (0.01%), avg per dialogue = 0.01\n",
      " Teacher: 458 (2.07%), avg per dialogue = 1.76\n",
      "reference:\n",
      " Total: 29 (0.07%), avg per dialogue = 0.11\n",
      " Student: 0 (0.0%), avg per dialogue = 0.00\n",
      " Teacher: 29 (0.13%), avg per dialogue = 0.11\n",
      "non-English:\n",
      " Total: 306 (0.74%), avg per dialogue = 1.18\n",
      " Student: 226 (1.17%), avg per dialogue = 0.87\n",
      " Teacher: 80 (0.36%), avg per dialogue = 0.31\n",
      "admin:\n",
      " Total: 12 (0.03%), avg per dialogue = 0.05\n",
      " Student: 1 (0.01%), avg per dialogue = 0.00\n",
      " Teacher: 11 (0.05%), avg per dialogue = 0.04\n",
      "opening:\n",
      " Total: 980 (2.36%), avg per dialogue = 3.77\n",
      " Student: 312 (1.61%), avg per dialogue = 1.20\n",
      " Teacher: 668 (3.02%), avg per dialogue = 2.57\n",
      "topic development:\n",
      " Total: 1085 (2.62%), avg per dialogue = 4.17\n",
      " Student: 407 (2.1%), avg per dialogue = 1.57\n",
      " Teacher: 678 (3.06%), avg per dialogue = 2.61\n",
      "free practice:\n",
      " Total: 59 (0.14%), avg per dialogue = 0.23\n",
      " Student: 1 (0.01%), avg per dialogue = 0.00\n",
      " Teacher: 58 (0.26%), avg per dialogue = 0.22\n",
      "eliciting:\n",
      " Total: 1884 (4.54%), avg per dialogue = 7.25\n",
      " Student: 9 (0.05%), avg per dialogue = 0.03\n",
      " Teacher: 1875 (8.47%), avg per dialogue = 7.21\n",
      "topic closure:\n",
      " Total: 5 (0.01%), avg per dialogue = 0.02\n",
      " Student: 0 (0.0%), avg per dialogue = 0.00\n",
      " Teacher: 5 (0.02%), avg per dialogue = 0.02\n",
      "enquiry:\n",
      " Total: 951 (2.29%), avg per dialogue = 3.66\n",
      " Student: 896 (4.63%), avg per dialogue = 3.45\n",
      " Teacher: 55 (0.25%), avg per dialogue = 0.21\n"
     ]
    },
    {
     "name": "stderr",
     "output_type": "stream",
     "text": [
      "C:\\Users\\kuba\\AppData\\Local\\Temp\\ipykernel_5304\\3913642735.py:4: FutureWarning: ChainedAssignmentError: behaviour will change in pandas 3.0!\n",
      "You are setting values through chained assignment. Currently this works in certain cases, but when using Copy-on-Write (which will become the default behaviour in pandas 3.0) this will never work to update the original DataFrame or Series, because the intermediate object on which we are setting values will behave as a copy.\n",
      "A typical example is when you are setting values in a column of a DataFrame, like:\n",
      "\n",
      "df[\"col\"][row_indexer] = value\n",
      "\n",
      "Use `df.loc[row_indexer, \"col\"] = values` instead, to perform the assignment in a single step and ensure this keeps updating the original `df`.\n",
      "\n",
      "See the caveats in the documentation: https://pandas.pydata.org/pandas-docs/stable/user_guide/indexing.html#returning-a-view-versus-a-copy\n",
      "\n",
      "  seq_type_stats[seq_type]['Quantity (total)'] = quantity_all\n",
      "C:\\Users\\kuba\\AppData\\Local\\Temp\\ipykernel_5304\\3913642735.py:5: FutureWarning: ChainedAssignmentError: behaviour will change in pandas 3.0!\n",
      "You are setting values through chained assignment. Currently this works in certain cases, but when using Copy-on-Write (which will become the default behaviour in pandas 3.0) this will never work to update the original DataFrame or Series, because the intermediate object on which we are setting values will behave as a copy.\n",
      "A typical example is when you are setting values in a column of a DataFrame, like:\n",
      "\n",
      "df[\"col\"][row_indexer] = value\n",
      "\n",
      "Use `df.loc[row_indexer, \"col\"] = values` instead, to perform the assignment in a single step and ensure this keeps updating the original `df`.\n",
      "\n",
      "See the caveats in the documentation: https://pandas.pydata.org/pandas-docs/stable/user_guide/indexing.html#returning-a-view-versus-a-copy\n",
      "\n",
      "  seq_type_stats[seq_type]['Percentage (total)'] = percentage_all\n",
      "C:\\Users\\kuba\\AppData\\Local\\Temp\\ipykernel_5304\\3913642735.py:6: FutureWarning: ChainedAssignmentError: behaviour will change in pandas 3.0!\n",
      "You are setting values through chained assignment. Currently this works in certain cases, but when using Copy-on-Write (which will become the default behaviour in pandas 3.0) this will never work to update the original DataFrame or Series, because the intermediate object on which we are setting values will behave as a copy.\n",
      "A typical example is when you are setting values in a column of a DataFrame, like:\n",
      "\n",
      "df[\"col\"][row_indexer] = value\n",
      "\n",
      "Use `df.loc[row_indexer, \"col\"] = values` instead, to perform the assignment in a single step and ensure this keeps updating the original `df`.\n",
      "\n",
      "See the caveats in the documentation: https://pandas.pydata.org/pandas-docs/stable/user_guide/indexing.html#returning-a-view-versus-a-copy\n",
      "\n",
      "  seq_type_stats[seq_type]['Avg per dialogue (total)'] = round(quantity_all/num_dialogues, 2)\n",
      "C:\\Users\\kuba\\AppData\\Local\\Temp\\ipykernel_5304\\3913642735.py:10: FutureWarning: ChainedAssignmentError: behaviour will change in pandas 3.0!\n",
      "You are setting values through chained assignment. Currently this works in certain cases, but when using Copy-on-Write (which will become the default behaviour in pandas 3.0) this will never work to update the original DataFrame or Series, because the intermediate object on which we are setting values will behave as a copy.\n",
      "A typical example is when you are setting values in a column of a DataFrame, like:\n",
      "\n",
      "df[\"col\"][row_indexer] = value\n",
      "\n",
      "Use `df.loc[row_indexer, \"col\"] = values` instead, to perform the assignment in a single step and ensure this keeps updating the original `df`.\n",
      "\n",
      "See the caveats in the documentation: https://pandas.pydata.org/pandas-docs/stable/user_guide/indexing.html#returning-a-view-versus-a-copy\n",
      "\n",
      "  seq_type_stats[seq_type]['Quantity (student)'] = quantity_student\n",
      "C:\\Users\\kuba\\AppData\\Local\\Temp\\ipykernel_5304\\3913642735.py:11: FutureWarning: ChainedAssignmentError: behaviour will change in pandas 3.0!\n",
      "You are setting values through chained assignment. Currently this works in certain cases, but when using Copy-on-Write (which will become the default behaviour in pandas 3.0) this will never work to update the original DataFrame or Series, because the intermediate object on which we are setting values will behave as a copy.\n",
      "A typical example is when you are setting values in a column of a DataFrame, like:\n",
      "\n",
      "df[\"col\"][row_indexer] = value\n",
      "\n",
      "Use `df.loc[row_indexer, \"col\"] = values` instead, to perform the assignment in a single step and ensure this keeps updating the original `df`.\n",
      "\n",
      "See the caveats in the documentation: https://pandas.pydata.org/pandas-docs/stable/user_guide/indexing.html#returning-a-view-versus-a-copy\n",
      "\n",
      "  seq_type_stats[seq_type]['Percentage (student)'] = percentage_student\n",
      "C:\\Users\\kuba\\AppData\\Local\\Temp\\ipykernel_5304\\3913642735.py:12: FutureWarning: ChainedAssignmentError: behaviour will change in pandas 3.0!\n",
      "You are setting values through chained assignment. Currently this works in certain cases, but when using Copy-on-Write (which will become the default behaviour in pandas 3.0) this will never work to update the original DataFrame or Series, because the intermediate object on which we are setting values will behave as a copy.\n",
      "A typical example is when you are setting values in a column of a DataFrame, like:\n",
      "\n",
      "df[\"col\"][row_indexer] = value\n",
      "\n",
      "Use `df.loc[row_indexer, \"col\"] = values` instead, to perform the assignment in a single step and ensure this keeps updating the original `df`.\n",
      "\n",
      "See the caveats in the documentation: https://pandas.pydata.org/pandas-docs/stable/user_guide/indexing.html#returning-a-view-versus-a-copy\n",
      "\n",
      "  seq_type_stats[seq_type]['Avg per dialogue (student)'] = round(quantity_student/num_dialogues, 2)\n",
      "C:\\Users\\kuba\\AppData\\Local\\Temp\\ipykernel_5304\\3913642735.py:16: FutureWarning: ChainedAssignmentError: behaviour will change in pandas 3.0!\n",
      "You are setting values through chained assignment. Currently this works in certain cases, but when using Copy-on-Write (which will become the default behaviour in pandas 3.0) this will never work to update the original DataFrame or Series, because the intermediate object on which we are setting values will behave as a copy.\n",
      "A typical example is when you are setting values in a column of a DataFrame, like:\n",
      "\n",
      "df[\"col\"][row_indexer] = value\n",
      "\n",
      "Use `df.loc[row_indexer, \"col\"] = values` instead, to perform the assignment in a single step and ensure this keeps updating the original `df`.\n",
      "\n",
      "See the caveats in the documentation: https://pandas.pydata.org/pandas-docs/stable/user_guide/indexing.html#returning-a-view-versus-a-copy\n",
      "\n",
      "  seq_type_stats[seq_type]['Quantity (teacher)'] = quantity_teacher\n",
      "C:\\Users\\kuba\\AppData\\Local\\Temp\\ipykernel_5304\\3913642735.py:17: FutureWarning: ChainedAssignmentError: behaviour will change in pandas 3.0!\n",
      "You are setting values through chained assignment. Currently this works in certain cases, but when using Copy-on-Write (which will become the default behaviour in pandas 3.0) this will never work to update the original DataFrame or Series, because the intermediate object on which we are setting values will behave as a copy.\n",
      "A typical example is when you are setting values in a column of a DataFrame, like:\n",
      "\n",
      "df[\"col\"][row_indexer] = value\n",
      "\n",
      "Use `df.loc[row_indexer, \"col\"] = values` instead, to perform the assignment in a single step and ensure this keeps updating the original `df`.\n",
      "\n",
      "See the caveats in the documentation: https://pandas.pydata.org/pandas-docs/stable/user_guide/indexing.html#returning-a-view-versus-a-copy\n",
      "\n",
      "  seq_type_stats[seq_type]['Percentage (teacher)'] = percentage_teacher\n",
      "C:\\Users\\kuba\\AppData\\Local\\Temp\\ipykernel_5304\\3913642735.py:18: FutureWarning: ChainedAssignmentError: behaviour will change in pandas 3.0!\n",
      "You are setting values through chained assignment. Currently this works in certain cases, but when using Copy-on-Write (which will become the default behaviour in pandas 3.0) this will never work to update the original DataFrame or Series, because the intermediate object on which we are setting values will behave as a copy.\n",
      "A typical example is when you are setting values in a column of a DataFrame, like:\n",
      "\n",
      "df[\"col\"][row_indexer] = value\n",
      "\n",
      "Use `df.loc[row_indexer, \"col\"] = values` instead, to perform the assignment in a single step and ensure this keeps updating the original `df`.\n",
      "\n",
      "See the caveats in the documentation: https://pandas.pydata.org/pandas-docs/stable/user_guide/indexing.html#returning-a-view-versus-a-copy\n",
      "\n",
      "  seq_type_stats[seq_type]['Avg per dialogue (teacher)'] = round(quantity_teacher/num_dialogues, 2)\n"
     ]
    },
    {
     "name": "stdout",
     "output_type": "stream",
     "text": [
      "redirection:\n",
      " Total: 44 (0.11%), avg per dialogue = 0.17\n",
      " Student: 3 (0.02%), avg per dialogue = 0.01\n",
      " Teacher: 41 (0.19%), avg per dialogue = 0.16\n",
      "homework:\n",
      " Total: 97 (0.23%), avg per dialogue = 0.37\n",
      " Student: 16 (0.08%), avg per dialogue = 0.06\n",
      " Teacher: 81 (0.37%), avg per dialogue = 0.31\n",
      "recap:\n",
      " Total: 31 (0.07%), avg per dialogue = 0.12\n",
      " Student: 1 (0.01%), avg per dialogue = 0.00\n",
      " Teacher: 30 (0.14%), avg per dialogue = 0.12\n",
      "repair:\n",
      " Total: 1405 (3.39%), avg per dialogue = 5.40\n",
      " Student: 474 (2.45%), avg per dialogue = 1.82\n",
      " Teacher: 931 (4.21%), avg per dialogue = 3.58\n",
      "disruption:\n",
      " Total: 118 (0.28%), avg per dialogue = 0.45\n",
      " Student: 61 (0.32%), avg per dialogue = 0.23\n",
      " Teacher: 57 (0.26%), avg per dialogue = 0.22\n",
      "scaffolding:\n",
      " Total: 4650 (11.21%), avg per dialogue = 17.88\n",
      " Student: 23 (0.12%), avg per dialogue = 0.09\n",
      " Teacher: 4627 (20.91%), avg per dialogue = 17.80\n",
      "clarification:\n",
      " Total: 87 (0.21%), avg per dialogue = 0.33\n",
      " Student: 18 (0.09%), avg per dialogue = 0.07\n",
      " Teacher: 69 (0.31%), avg per dialogue = 0.27\n",
      "exercise:\n",
      " Total: 647 (1.56%), avg per dialogue = 2.49\n",
      " Student: 38 (0.2%), avg per dialogue = 0.15\n",
      " Teacher: 609 (2.75%), avg per dialogue = 2.34\n",
      "closing:\n",
      " Total: 249 (0.6%), avg per dialogue = 0.96\n",
      " Student: 26 (0.13%), avg per dialogue = 0.10\n",
      " Teacher: 223 (1.01%), avg per dialogue = 0.86\n",
      "revision:\n",
      " Total: 316 (0.76%), avg per dialogue = 1.22\n",
      " Student: 0 (0.0%), avg per dialogue = 0.00\n",
      " Teacher: 316 (1.43%), avg per dialogue = 1.22\n"
     ]
    }
   ],
   "source": [
    "for seq_type in unique_seq_types:\n",
    "    quantity_all = len(chatrooms_all[chatrooms_all['seq.type'].str.contains(seq_type, na=False)])\n",
    "    percentage_all = round(quantity_all/len(chatrooms_all)*100, 2)\n",
    "    seq_type_stats[seq_type]['Quantity (total)'] = quantity_all\n",
    "    seq_type_stats[seq_type]['Percentage (total)'] = percentage_all\n",
    "    seq_type_stats[seq_type]['Avg per dialogue (total)'] = round(quantity_all/num_dialogues, 2)\n",
    "\n",
    "    quantity_student = len(student_utterances_all[student_utterances_all['seq.type'].str.contains(seq_type, na=False)])\n",
    "    percentage_student = round(quantity_student/len(student_utterances_all)*100, 2)\n",
    "    seq_type_stats[seq_type]['Quantity (student)'] = quantity_student\n",
    "    seq_type_stats[seq_type]['Percentage (student)'] = percentage_student\n",
    "    seq_type_stats[seq_type]['Avg per dialogue (student)'] = round(quantity_student/num_dialogues, 2)\n",
    "\n",
    "    quantity_teacher = len(teacher_utterances_all[teacher_utterances_all['seq.type'].str.contains(seq_type, na=False)])\n",
    "    percentage_teacher = round(quantity_teacher/len(teacher_utterances_all)*100, 2)\n",
    "    seq_type_stats[seq_type]['Quantity (teacher)'] = quantity_teacher\n",
    "    seq_type_stats[seq_type]['Percentage (teacher)'] = percentage_teacher\n",
    "    seq_type_stats[seq_type]['Avg per dialogue (teacher)'] = round(quantity_teacher/num_dialogues, 2)\n",
    "\n",
    "\n",
    "    print(f'{seq_type}:\\n Total: {quantity_all} ({percentage_all}%), avg per dialogue = {quantity_all/num_dialogues:.2f}\\n Student: {quantity_student} ({percentage_student}%), avg per dialogue = {quantity_student/num_dialogues:.2f}\\n Teacher: {quantity_teacher} ({percentage_teacher}%), avg per dialogue = {quantity_teacher/num_dialogues:.2f}')"
   ]
  },
  {
   "cell_type": "markdown",
   "metadata": {
    "collapsed": false,
    "jupyter": {
     "outputs_hidden": false
    },
    "pycharm": {
     "name": "#%% md\n"
    }
   },
   "source": [
    "Now, I analyse the students' CEFR level in subsequent lessons\n"
   ]
  },
  {
   "cell_type": "code",
   "execution_count": 16,
   "metadata": {
    "collapsed": false,
    "jupyter": {
     "outputs_hidden": false
    },
    "pycharm": {
     "name": "#%%\n"
    }
   },
   "outputs": [],
   "source": [
    "levels = {}\n",
    "for student, contents in student_group:\n",
    "    cefr_levels = contents['student.cefr.level']\n",
    "    levels[student] = list(cefr_levels)"
   ]
  },
  {
   "cell_type": "code",
   "execution_count": 55,
   "metadata": {
    "collapsed": false,
    "jupyter": {
     "outputs_hidden": false
    },
    "pycharm": {
     "name": "#%%\n"
    }
   },
   "outputs": [
    {
     "name": "stdout",
     "output_type": "stream",
     "text": [
      "12\n"
     ]
    },
    {
     "data": {
      "image/png": "[encoded data removed]",
      "text/plain": [
       "<Figure size 1000x600 with 1 Axes>"
      ]
     },
     "metadata": {},
     "output_type": "display_data"
    }
   ],
   "source": [
    "data = []\n",
    "for student_id, cefr_levels in levels.items():\n",
    "    for i, level in enumerate(cefr_levels):\n",
    "        data.append({'student_id': student_id, 'class_index': i+1, 'CEFR_level': level})\n",
    "df = pd.DataFrame(data)\n",
    "\n",
    "# 2. Map CEFR levels to numerical order\n",
    "cefr_order = {\"B1\": 1, \"B2\": 2, \"C1\": 3, \"C2\": 4}\n",
    "df['cefr_numeric'] = df['CEFR_level'].map(cefr_order)\n",
    "\n",
    "df['class_index']\n",
    "# df['cefr_numeric'] += np.random.uniform(-0.15, 0.15, len(df))\n",
    "\n",
    "# 3. Plot\n",
    "plt.figure(figsize=(10, 6))\n",
    "colormap = plt.colormaps['tab20'] # Choose any colormap you like\n",
    "num_students = len(set(df['student_id']))\n",
    "colors = colormap(np.linspace(0, 1, num_students))\n",
    "# markers = ['o', 's', '^', 'v', 'D']\n",
    "# Plot (modified line)\n",
    "for i, (student_id, student_data) in enumerate(df.groupby('student_id')):\n",
    "    # adding offsets\n",
    "    if(student_id == 'student014'):\n",
    "        student_data['cefr_numeric'] += 0.1\n",
    "    elif(student_id == 'student002'):\n",
    "        student_data['cefr_numeric'] -= 0.1\n",
    "    elif(student_id == 'student006'):\n",
    "        student_data['cefr_numeric'] += 0.1\n",
    "        # B2: 15, 11, 9 (long), 10, 5, 3\n",
    "    elif(student_id == 'student003'):\n",
    "        student_data['cefr_numeric'] += 0.1\n",
    "    elif(student_id == 'student005'):\n",
    "        student_data['cefr_numeric'] -= 0.1\n",
    "    elif(student_id == 'student010'):\n",
    "        student_data['cefr_numeric'] -= 0.2\n",
    "    elif(student_id == 'student015'):\n",
    "        student_data['cefr_numeric'] += 0.2\n",
    "    elif(student_id == 'student011'):\n",
    "        student_data['cefr_numeric'] -= 0.03\n",
    "    elif(student_id == 'student009'):\n",
    "        student_data['cefr_numeric'] += 0.03\n",
    "        \n",
    "    plt.plot(\n",
    "        student_data['class_index'],\n",
    "        student_data['cefr_numeric'],\n",
    "        label=student_id,\n",
    "        color=colors[i],\n",
    "        marker='o'\n",
    "        # marker=markers[i % len(markers)]  # Cycle through markers\n",
    "    )\n",
    "# 4. Labels & Ticks\n",
    "\n",
    "plt.xlabel('Class Index')\n",
    "plt.ylabel('CEFR Level')\n",
    "plt.yticks(range(1, 5), list(cefr_order.keys()))\n",
    "plt.title('CEFR levels of students over the classes')\n",
    "# 5. Colormap\n",
    "print(len(set(df['student_id'])))\n",
    "plt.legend()\n",
    "\n",
    "plt.savefig('plots/cefr.png', bbox_inches='tight')\n",
    "plt.show()"
   ]
  },
  {
   "cell_type": "markdown",
   "metadata": {
    "collapsed": false,
    "jupyter": {
     "outputs_hidden": false
    },
    "pycharm": {
     "name": "#%% md\n"
    }
   },
   "source": [
    "Here I explore the C1 chat of student007, comparing it to their other chats\n"
   ]
  },
  {
   "cell_type": "code",
   "execution_count": 18,
   "metadata": {
    "collapsed": false,
    "jupyter": {
     "outputs_hidden": false
    },
    "pycharm": {
     "name": "#%%\n"
    }
   },
   "outputs": [
    {
     "name": "stdout",
     "output_type": "stream",
     "text": [
      "C1 chat MLU = 6.909090909090909\n",
      "Average chat MLU = 6.966186609859255\n"
     ]
    }
   ],
   "source": [
    "MLU_student007_C1 = np.mean(chatC1[chatC1['role'].str.contains('student')]['nWords'])\n",
    "MLU_student007_avg = 0\n",
    "for chat in student007_chats:\n",
    "    MLU_student007_avg += np.mean(chat[chat['role'].str.contains('student')]['nWords'])\n",
    "MLU_student007_avg /= len(student007_chats)\n",
    "print(f'C1 chat MLU = {MLU_student007_C1}\\nAverage chat MLU = {MLU_student007_avg}')"
   ]
  },
  {
   "cell_type": "markdown",
   "metadata": {
    "collapsed": false,
    "jupyter": {
     "outputs_hidden": false
    },
    "pycharm": {
     "name": "#%% md\n"
    }
   },
   "source": [
    "The C1 chat even has lower MLU than the student's average.\n",
    "#### Now I look into student's native languages and abilities"
   ]
  },
  {
   "cell_type": "code",
   "execution_count": 19,
   "metadata": {
    "collapsed": false,
    "jupyter": {
     "outputs_hidden": false
    },
    "pycharm": {
     "name": "#%%\n"
    }
   },
   "outputs": [
    {
     "name": "stdout",
     "output_type": "stream",
     "text": [
      "Italian: 2, {'student014', 'student005'}\n",
      "Japanese: 2, {'student003', 'student002'}\n",
      "Mandarin Chinese: 2, {'student007', 'student015'}\n",
      "Russian: 1, {'student012'}\n",
      "Russian,Ukrainian: 1, {'student011'}\n",
      "Spanish: 1, {'student004'}\n",
      "Thai: 1, {'student006'}\n",
      "Ukrainian: 2, {'student010', 'student009'}\n"
     ]
    }
   ],
   "source": [
    "for group, contents in l1_groups:\n",
    "    print(f\"{group}: {len(set(contents['student']))}, {set(contents['student'])}\")"
   ]
  },
  {
   "cell_type": "code",
   "execution_count": 20,
   "metadata": {
    "collapsed": false,
    "jupyter": {
     "outputs_hidden": false
    },
    "pycharm": {
     "name": "#%%\n"
    }
   },
   "outputs": [
    {
     "name": "stdout",
     "output_type": "stream",
     "text": [
      "british\n"
     ]
    },
    {
     "ename": "KeyboardInterrupt",
     "evalue": "",
     "output_type": "error",
     "traceback": [
      "\u001B[1;31m---------------------------------------------------------------------------\u001B[0m",
      "\u001B[1;31mKeyboardInterrupt\u001B[0m                         Traceback (most recent call last)",
      "Cell \u001B[1;32mIn[20], line 43\u001B[0m\n\u001B[0;32m     40\u001B[0m cefr_ttr_total, cefr_ttr_teacher, cefr_ttr_student \u001B[38;5;241m=\u001B[39m \u001B[38;5;241m0\u001B[39m, \u001B[38;5;241m0\u001B[39m, \u001B[38;5;241m0\u001B[39m\n\u001B[0;32m     42\u001B[0m \u001B[38;5;28;01mfor\u001B[39;00m chat \u001B[38;5;129;01min\u001B[39;00m chats:\n\u001B[1;32m---> 43\u001B[0m     chat_AoAs \u001B[38;5;241m=\u001B[39m \u001B[43mchat_AoA\u001B[49m\u001B[43m(\u001B[49m\u001B[43mchat\u001B[49m\u001B[43m)\u001B[49m\n\u001B[0;32m     44\u001B[0m     cefr_aoa_total \u001B[38;5;241m+\u001B[39m\u001B[38;5;241m=\u001B[39m chat_AoAs[\u001B[38;5;241m0\u001B[39m]\n\u001B[0;32m     45\u001B[0m     cefr_aoa_teacher \u001B[38;5;241m+\u001B[39m\u001B[38;5;241m=\u001B[39m chat_AoAs[\u001B[38;5;241m1\u001B[39m]\n",
      "File \u001B[1;32m~\\AppData\\Local\\Temp\\ipykernel_5304\\1203828084.py:15\u001B[0m, in \u001B[0;36mchat_AoA\u001B[1;34m(chat)\u001B[0m\n\u001B[0;32m     13\u001B[0m utterance \u001B[38;5;241m=\u001B[39m utterance\u001B[38;5;241m.\u001B[39mreplace(\u001B[38;5;124m'\u001B[39m\u001B[38;5;124m<STUDENT>\u001B[39m\u001B[38;5;124m'\u001B[39m, \u001B[38;5;124m'\u001B[39m\u001B[38;5;124m'\u001B[39m)\n\u001B[0;32m     14\u001B[0m utterance \u001B[38;5;241m=\u001B[39m utterance\u001B[38;5;241m.\u001B[39mreplace(\u001B[38;5;124m'\u001B[39m\u001B[38;5;124m<TEACHER>\u001B[39m\u001B[38;5;124m'\u001B[39m, \u001B[38;5;124m'\u001B[39m\u001B[38;5;124m'\u001B[39m)\n\u001B[1;32m---> 15\u001B[0m tokens \u001B[38;5;241m=\u001B[39m \u001B[43mtokenize_and_preprocess\u001B[49m\u001B[43m(\u001B[49m\u001B[43mutterance\u001B[49m\u001B[43m,\u001B[49m\u001B[43m \u001B[49m\u001B[38;5;28;43;01mTrue\u001B[39;49;00m\u001B[43m)\u001B[49m\n\u001B[0;32m     17\u001B[0m \u001B[38;5;28;01mfor\u001B[39;00m token \u001B[38;5;129;01min\u001B[39;00m tokens:\n\u001B[0;32m     18\u001B[0m     \u001B[38;5;28;01mif\u001B[39;00m token \u001B[38;5;129;01min\u001B[39;00m AoA_list[\u001B[38;5;124m'\u001B[39m\u001B[38;5;124mWord\u001B[39m\u001B[38;5;124m'\u001B[39m]\u001B[38;5;241m.\u001B[39mvalues:\n\u001B[0;32m     19\u001B[0m         \u001B[38;5;66;03m# print(token)\u001B[39;00m\n\u001B[0;32m     20\u001B[0m         \u001B[38;5;66;03m# print(AoA_list[AoA_list['Word'] == token]['AoA_Kup_lem'].item())\u001B[39;00m\n",
      "File \u001B[1;32m~\\AppData\\Local\\Temp\\ipykernel_5304\\1842512355.py:18\u001B[0m, in \u001B[0;36mtokenize_and_preprocess\u001B[1;34m(utt, stopwords)\u001B[0m\n\u001B[0;32m     14\u001B[0m \u001B[38;5;28;01mif\u001B[39;00m stopwords:\n\u001B[0;32m     15\u001B[0m     \u001B[38;5;28;01mif\u001B[39;00m token \u001B[38;5;129;01mnot\u001B[39;00m \u001B[38;5;129;01min\u001B[39;00m \u001B[38;5;28mset\u001B[39m(stoplist \u001B[38;5;241m+\u001B[39m \u001B[38;5;28mlist\u001B[39m(punctuation)) \u001B[38;5;129;01mand\u001B[39;00m\\\n\u001B[0;32m     16\u001B[0m         re\u001B[38;5;241m.\u001B[39msearch(\u001B[38;5;124m'\u001B[39m\u001B[38;5;124m[a-zA-Z]\u001B[39m\u001B[38;5;124m'\u001B[39m, token) \u001B[38;5;129;01mand\u001B[39;00m\\\n\u001B[0;32m     17\u001B[0m         \u001B[38;5;28mall\u001B[39m(char \u001B[38;5;129;01min\u001B[39;00m allowed_chars \u001B[38;5;28;01mfor\u001B[39;00m char \u001B[38;5;129;01min\u001B[39;00m token):\n\u001B[1;32m---> 18\u001B[0m         token \u001B[38;5;241m=\u001B[39m \u001B[43mspell\u001B[49m\u001B[43m(\u001B[49m\u001B[43mtoken\u001B[49m\u001B[43m)\u001B[49m\n\u001B[0;32m     19\u001B[0m         res\u001B[38;5;241m.\u001B[39mappend(token)\n\u001B[0;32m     20\u001B[0m \u001B[38;5;28;01melse\u001B[39;00m:\n",
      "File \u001B[1;32mc:\\users\\kuba\\onedrive\\pulpit\\studia\\year 4\\thesis\\scripts\\venv\\Lib\\site-packages\\autocorrect\\__init__.py:128\u001B[0m, in \u001B[0;36mSpeller.autocorrect_sentence\u001B[1;34m(self, sentence)\u001B[0m\n\u001B[0;32m    127\u001B[0m \u001B[38;5;28;01mdef\u001B[39;00m \u001B[38;5;21mautocorrect_sentence\u001B[39m(\u001B[38;5;28mself\u001B[39m, sentence):\n\u001B[1;32m--> 128\u001B[0m     \u001B[38;5;28;01mreturn\u001B[39;00m \u001B[43mre\u001B[49m\u001B[38;5;241;43m.\u001B[39;49m\u001B[43msub\u001B[49m\u001B[43m(\u001B[49m\n\u001B[0;32m    129\u001B[0m \u001B[43m        \u001B[49m\u001B[43mword_regexes\u001B[49m\u001B[43m[\u001B[49m\u001B[38;5;28;43mself\u001B[39;49m\u001B[38;5;241;43m.\u001B[39;49m\u001B[43mlang\u001B[49m\u001B[43m]\u001B[49m\u001B[43m,\u001B[49m\n\u001B[0;32m    130\u001B[0m \u001B[43m        \u001B[49m\u001B[38;5;28;43;01mlambda\u001B[39;49;00m\u001B[43m \u001B[49m\u001B[43mmatch\u001B[49m\u001B[43m:\u001B[49m\u001B[43m \u001B[49m\u001B[38;5;28;43mself\u001B[39;49m\u001B[38;5;241;43m.\u001B[39;49m\u001B[43mautocorrect_word\u001B[49m\u001B[43m(\u001B[49m\u001B[43mmatch\u001B[49m\u001B[38;5;241;43m.\u001B[39;49m\u001B[43mgroup\u001B[49m\u001B[43m(\u001B[49m\u001B[38;5;241;43m0\u001B[39;49m\u001B[43m)\u001B[49m\u001B[43m)\u001B[49m\u001B[43m,\u001B[49m\n\u001B[0;32m    131\u001B[0m \u001B[43m        \u001B[49m\u001B[43msentence\u001B[49m\u001B[43m,\u001B[49m\n\u001B[0;32m    132\u001B[0m \u001B[43m    \u001B[49m\u001B[43m)\u001B[49m\n",
      "File \u001B[1;32m~\\AppData\\Local\\Programs\\Python\\Python311\\Lib\\re\\__init__.py:185\u001B[0m, in \u001B[0;36msub\u001B[1;34m(pattern, repl, string, count, flags)\u001B[0m\n\u001B[0;32m    178\u001B[0m \u001B[38;5;28;01mdef\u001B[39;00m \u001B[38;5;21msub\u001B[39m(pattern, repl, string, count\u001B[38;5;241m=\u001B[39m\u001B[38;5;241m0\u001B[39m, flags\u001B[38;5;241m=\u001B[39m\u001B[38;5;241m0\u001B[39m):\n\u001B[0;32m    179\u001B[0m \u001B[38;5;250m    \u001B[39m\u001B[38;5;124;03m\"\"\"Return the string obtained by replacing the leftmost\u001B[39;00m\n\u001B[0;32m    180\u001B[0m \u001B[38;5;124;03m    non-overlapping occurrences of the pattern in string by the\u001B[39;00m\n\u001B[0;32m    181\u001B[0m \u001B[38;5;124;03m    replacement repl.  repl can be either a string or a callable;\u001B[39;00m\n\u001B[0;32m    182\u001B[0m \u001B[38;5;124;03m    if a string, backslash escapes in it are processed.  If it is\u001B[39;00m\n\u001B[0;32m    183\u001B[0m \u001B[38;5;124;03m    a callable, it's passed the Match object and must return\u001B[39;00m\n\u001B[0;32m    184\u001B[0m \u001B[38;5;124;03m    a replacement string to be used.\"\"\"\u001B[39;00m\n\u001B[1;32m--> 185\u001B[0m     \u001B[38;5;28;01mreturn\u001B[39;00m \u001B[43m_compile\u001B[49m\u001B[43m(\u001B[49m\u001B[43mpattern\u001B[49m\u001B[43m,\u001B[49m\u001B[43m \u001B[49m\u001B[43mflags\u001B[49m\u001B[43m)\u001B[49m\u001B[38;5;241;43m.\u001B[39;49m\u001B[43msub\u001B[49m\u001B[43m(\u001B[49m\u001B[43mrepl\u001B[49m\u001B[43m,\u001B[49m\u001B[43m \u001B[49m\u001B[43mstring\u001B[49m\u001B[43m,\u001B[49m\u001B[43m \u001B[49m\u001B[43mcount\u001B[49m\u001B[43m)\u001B[49m\n",
      "File \u001B[1;32mc:\\users\\kuba\\onedrive\\pulpit\\studia\\year 4\\thesis\\scripts\\venv\\Lib\\site-packages\\autocorrect\\__init__.py:130\u001B[0m, in \u001B[0;36mSpeller.autocorrect_sentence.<locals>.<lambda>\u001B[1;34m(match)\u001B[0m\n\u001B[0;32m    127\u001B[0m \u001B[38;5;28;01mdef\u001B[39;00m \u001B[38;5;21mautocorrect_sentence\u001B[39m(\u001B[38;5;28mself\u001B[39m, sentence):\n\u001B[0;32m    128\u001B[0m     \u001B[38;5;28;01mreturn\u001B[39;00m re\u001B[38;5;241m.\u001B[39msub(\n\u001B[0;32m    129\u001B[0m         word_regexes[\u001B[38;5;28mself\u001B[39m\u001B[38;5;241m.\u001B[39mlang],\n\u001B[1;32m--> 130\u001B[0m         \u001B[38;5;28;01mlambda\u001B[39;00m match: \u001B[38;5;28;43mself\u001B[39;49m\u001B[38;5;241;43m.\u001B[39;49m\u001B[43mautocorrect_word\u001B[49m\u001B[43m(\u001B[49m\u001B[43mmatch\u001B[49m\u001B[38;5;241;43m.\u001B[39;49m\u001B[43mgroup\u001B[49m\u001B[43m(\u001B[49m\u001B[38;5;241;43m0\u001B[39;49m\u001B[43m)\u001B[49m\u001B[43m)\u001B[49m,\n\u001B[0;32m    131\u001B[0m         sentence,\n\u001B[0;32m    132\u001B[0m     )\n",
      "File \u001B[1;32mc:\\users\\kuba\\onedrive\\pulpit\\studia\\year 4\\thesis\\scripts\\venv\\Lib\\site-packages\\autocorrect\\__init__.py:114\u001B[0m, in \u001B[0;36mSpeller.autocorrect_word\u001B[1;34m(self, word)\u001B[0m\n\u001B[0;32m    111\u001B[0m \u001B[38;5;28;01mif\u001B[39;00m word \u001B[38;5;241m==\u001B[39m \u001B[38;5;124m\"\u001B[39m\u001B[38;5;124m\"\u001B[39m:\n\u001B[0;32m    112\u001B[0m     \u001B[38;5;28;01mreturn\u001B[39;00m \u001B[38;5;124m\"\u001B[39m\u001B[38;5;124m\"\u001B[39m\n\u001B[1;32m--> 114\u001B[0m candidates \u001B[38;5;241m=\u001B[39m \u001B[38;5;28;43mself\u001B[39;49m\u001B[38;5;241;43m.\u001B[39;49m\u001B[43mget_candidates\u001B[49m\u001B[43m(\u001B[49m\u001B[43mword\u001B[49m\u001B[43m)\u001B[49m\n\u001B[0;32m    116\u001B[0m \u001B[38;5;66;03m# in case the word is capitalized\u001B[39;00m\n\u001B[0;32m    117\u001B[0m \u001B[38;5;28;01mif\u001B[39;00m word[\u001B[38;5;241m0\u001B[39m]\u001B[38;5;241m.\u001B[39misupper():\n",
      "File \u001B[1;32mc:\\users\\kuba\\onedrive\\pulpit\\studia\\year 4\\thesis\\scripts\\venv\\Lib\\site-packages\\autocorrect\\__init__.py:104\u001B[0m, in \u001B[0;36mSpeller.get_candidates\u001B[1;34m(self, word)\u001B[0m\n\u001B[0;32m     99\u001B[0m     candidates \u001B[38;5;241m=\u001B[39m \u001B[38;5;28mself\u001B[39m\u001B[38;5;241m.\u001B[39mexisting([word]) \u001B[38;5;129;01mor\u001B[39;00m \u001B[38;5;28mself\u001B[39m\u001B[38;5;241m.\u001B[39mexisting(w\u001B[38;5;241m.\u001B[39mtypos()) \u001B[38;5;129;01mor\u001B[39;00m [word]\n\u001B[0;32m    100\u001B[0m \u001B[38;5;28;01melse\u001B[39;00m:\n\u001B[0;32m    101\u001B[0m     candidates \u001B[38;5;241m=\u001B[39m (\n\u001B[0;32m    102\u001B[0m         \u001B[38;5;28mself\u001B[39m\u001B[38;5;241m.\u001B[39mexisting([word])\n\u001B[0;32m    103\u001B[0m         \u001B[38;5;129;01mor\u001B[39;00m \u001B[38;5;28mself\u001B[39m\u001B[38;5;241m.\u001B[39mexisting(w\u001B[38;5;241m.\u001B[39mtypos())\n\u001B[1;32m--> 104\u001B[0m         \u001B[38;5;129;01mor\u001B[39;00m \u001B[38;5;28;43mself\u001B[39;49m\u001B[38;5;241;43m.\u001B[39;49m\u001B[43mexisting\u001B[49m\u001B[43m(\u001B[49m\u001B[43mw\u001B[49m\u001B[38;5;241;43m.\u001B[39;49m\u001B[43mdouble_typos\u001B[49m\u001B[43m(\u001B[49m\u001B[43m)\u001B[49m\u001B[43m)\u001B[49m\n\u001B[0;32m    105\u001B[0m         \u001B[38;5;129;01mor\u001B[39;00m [word]\n\u001B[0;32m    106\u001B[0m     )\n\u001B[0;32m    107\u001B[0m \u001B[38;5;28;01mreturn\u001B[39;00m [(\u001B[38;5;28mself\u001B[39m\u001B[38;5;241m.\u001B[39mnlp_data\u001B[38;5;241m.\u001B[39mget(c, \u001B[38;5;241m0\u001B[39m), c) \u001B[38;5;28;01mfor\u001B[39;00m c \u001B[38;5;129;01min\u001B[39;00m candidates]\n",
      "File \u001B[1;32mc:\\users\\kuba\\onedrive\\pulpit\\studia\\year 4\\thesis\\scripts\\venv\\Lib\\site-packages\\autocorrect\\__init__.py:94\u001B[0m, in \u001B[0;36mSpeller.existing\u001B[1;34m(self, words)\u001B[0m\n\u001B[0;32m     92\u001B[0m \u001B[38;5;28;01mdef\u001B[39;00m \u001B[38;5;21mexisting\u001B[39m(\u001B[38;5;28mself\u001B[39m, words):\n\u001B[0;32m     93\u001B[0m \u001B[38;5;250m    \u001B[39m\u001B[38;5;124;03m\"\"\"{'the', 'teh'} => {'the'}\"\"\"\u001B[39;00m\n\u001B[1;32m---> 94\u001B[0m     \u001B[38;5;28;01mreturn\u001B[39;00m \u001B[43m{\u001B[49m\u001B[43mword\u001B[49m\u001B[43m \u001B[49m\u001B[38;5;28;43;01mfor\u001B[39;49;00m\u001B[43m \u001B[49m\u001B[43mword\u001B[49m\u001B[43m \u001B[49m\u001B[38;5;129;43;01min\u001B[39;49;00m\u001B[43m \u001B[49m\u001B[43mwords\u001B[49m\u001B[43m \u001B[49m\u001B[38;5;28;43;01mif\u001B[39;49;00m\u001B[43m \u001B[49m\u001B[43mword\u001B[49m\u001B[43m \u001B[49m\u001B[38;5;129;43;01min\u001B[39;49;00m\u001B[43m \u001B[49m\u001B[38;5;28;43mself\u001B[39;49m\u001B[38;5;241;43m.\u001B[39;49m\u001B[43mnlp_data\u001B[49m\u001B[43m}\u001B[49m\n",
      "File \u001B[1;32mc:\\users\\kuba\\onedrive\\pulpit\\studia\\year 4\\thesis\\scripts\\venv\\Lib\\site-packages\\autocorrect\\__init__.py:94\u001B[0m, in \u001B[0;36m<setcomp>\u001B[1;34m(.0)\u001B[0m\n\u001B[0;32m     92\u001B[0m \u001B[38;5;28;01mdef\u001B[39;00m \u001B[38;5;21mexisting\u001B[39m(\u001B[38;5;28mself\u001B[39m, words):\n\u001B[0;32m     93\u001B[0m \u001B[38;5;250m    \u001B[39m\u001B[38;5;124;03m\"\"\"{'the', 'teh'} => {'the'}\"\"\"\u001B[39;00m\n\u001B[1;32m---> 94\u001B[0m     \u001B[38;5;28;01mreturn\u001B[39;00m {word \u001B[38;5;28;01mfor\u001B[39;00m word \u001B[38;5;129;01min\u001B[39;00m words \u001B[38;5;28;01mif\u001B[39;00m word \u001B[38;5;129;01min\u001B[39;00m \u001B[38;5;28mself\u001B[39m\u001B[38;5;241m.\u001B[39mnlp_data}\n",
      "\u001B[1;31mKeyboardInterrupt\u001B[0m: "
     ]
    }
   ],
   "source": [
    "## TODO - graphs, maybe tables, but a nice progressive graph would be cool\n",
    "for level, chats in cefr_groups.items():\n",
    "\n",
    "    # MLU\n",
    "\n",
    "    cefr_dialogues_total = pd.concat(chats, axis=0, ignore_index=True)\n",
    "\n",
    "    cefr_MLUs = chat_MLU(cefr_dialogues_total)\n",
    "    cefr_mlu_total = cefr_MLUs[0]\n",
    "    cefr_mlu_teacher= cefr_MLUs[1]\n",
    "    cefr_mlu_student = cefr_MLUs[2]\n",
    "\n",
    "    # Utterances per dialogue\n",
    "\n",
    "    cefr_upd_total = np.mean([len(chat) for chat in chats])\n",
    "    cefr_upd_teacher, cefr_upd_student = 0, 0\n",
    "    for chat in chats:\n",
    "        cefr_upd_teacher += len(chat[chat['role'].str.contains('teacher')])\n",
    "        cefr_upd_student += len(chat[chat['role'].str.contains('student')])\n",
    "    cefr_upd_teacher /= len(chats)\n",
    "    cefr_upd_student /= len(chats)\n",
    "    cefr_upd_teacher_percentage = cefr_upd_teacher/cefr_upd_total*100\n",
    "\n",
    "    # Words per dialogue\n",
    "\n",
    "    cefr_wpd_total = np.mean([np.sum(chat['nWords']) for chat in chats])\n",
    "    cefr_wpd_teacher, cefr_wpd_student = 0, 0\n",
    "    for chat in chats:\n",
    "        cefr_wpd_teacher += np.mean([np.sum((chat[chat['role'].str.contains('teacher')]['nWords']))])\n",
    "        cefr_wpd_student += np.mean([np.sum((chat[chat['role'].str.contains('student')]['nWords']))])\n",
    "    cefr_wpd_teacher /= len(chats)\n",
    "    cefr_wpd_student /= len(chats)\n",
    "    cefr_wpd_teacher_percentage = cefr_wpd_teacher/cefr_wpd_total*100\n",
    "\n",
    "    # AoA, Word Frequency and Type-Token Ratio\n",
    "\n",
    "    cefr_aoa_total, cefr_aoa_teacher, cefr_aoa_student = 0, 0, 0\n",
    "    cefr_wf_total, cefr_wf_teacher, cefr_wf_student = 0, 0, 0\n",
    "    cefr_rare_total, cefr_rare_teacher, cefr_rare_student = 0, 0, 0\n",
    "    cefr_ttr_total, cefr_ttr_teacher, cefr_ttr_student = 0, 0, 0\n",
    "\n",
    "    for chat in chats:\n",
    "        chat_AoAs = chat_AoA(chat)\n",
    "        cefr_aoa_total += chat_AoAs[0]\n",
    "        cefr_aoa_teacher += chat_AoAs[1]\n",
    "        cefr_aoa_student += chat_AoAs[2]\n",
    "\n",
    "        chat_WFs = chat_WF(chat)\n",
    "        cefr_wf_total += chat_WFs[0]\n",
    "        cefr_wf_teacher+= chat_WFs[1]\n",
    "        cefr_wf_student += chat_WFs[2]\n",
    "        cefr_rare_total += chat_WFs[3]\n",
    "        cefr_rare_teacher += chat_WFs[4]\n",
    "        cefr_rare_student += chat_WFs[5]\n",
    "\n",
    "        chat_TTRs = chat_TTR(chat)\n",
    "        cefr_ttr_total += chat_TTRs[0]\n",
    "        cefr_ttr_teacher += chat_TTRs[1]\n",
    "        cefr_ttr_student += chat_TTRs[2]\n",
    "\n",
    "    cefr_aoa_total /= len(chats)\n",
    "    cefr_aoa_teacher /= len(chats)\n",
    "    cefr_aoa_student /= len(chats)\n",
    "\n",
    "    cefr_wf_total /= len(chats)\n",
    "    cefr_wf_teacher /= len(chats)\n",
    "    cefr_wf_student /= len(chats)\n",
    "    cefr_rare_total /= len(chats)\n",
    "    cefr_rare_teacher /= len(chats)\n",
    "    cefr_rare_student /= len(chats)\n",
    "\n",
    "    cefr_ttr_total /= len(chats)\n",
    "    cefr_ttr_teacher /= len(chats)\n",
    "    cefr_ttr_student /= len(chats)\n",
    "\n",
    "    # Printing\n",
    "\n",
    "    print(f'{level}:\\n'\n",
    "          f'MLU total = {cefr_mlu_total:.2f}\\n'\n",
    "          f'MLU teachers = {cefr_mlu_teacher:.2f}\\n'\n",
    "          f'MLU students = {cefr_mlu_student:.2f}\\n\\n'\n",
    "          f'Avg utt per dialogue total = {cefr_upd_total:.2f}\\n'\n",
    "          f'Avg utt per dialogue teachers = {cefr_upd_teacher:.2f} ({cefr_upd_teacher_percentage:.2f}%)\\n'\n",
    "          f'Avg utt per dialogue students = {cefr_upd_student:.2f} ({100-cefr_upd_teacher_percentage:.2f}%)\\n\\n'\n",
    "          f'Avg words per dialogue total = {cefr_wpd_total:.2f}\\n'\n",
    "          f'Avg words per dialogue teachers = {cefr_wpd_teacher:.2f} ({cefr_wpd_teacher_percentage:.2f}%)\\n'\n",
    "          f'Avg words per dialogue students = {cefr_wpd_student:.2f} ({100-cefr_wpd_teacher_percentage:.2f}%)\\n\\n'\n",
    "          f'Avg Age of Acquisition total = {cefr_aoa_total:.2f}\\n'\n",
    "          f'Avg Age of Acquisition teachers = {cefr_aoa_teacher:.2f}\\n'\n",
    "          f'Avg Age of Acquisition students = {cefr_aoa_student:.2f}\\n\\n'\n",
    "          f'Avg Word Frequency total = {cefr_wf_total:.2f} (rare {(cefr_rare_total*100):.2f}%)\\n'\n",
    "          f'Avg Word Frequency teachers = {cefr_wf_teacher:.2f} (rare {(cefr_rare_teacher*100):.2f}%)\\n'\n",
    "          f'Avg Word Frequency students = {cefr_wf_student:.2f} (rare {(cefr_rare_student*100):.2f}%)\\n\\n'\n",
    "          f'Avg Type-Token Ratio total = {cefr_ttr_total:.2f}\\n'\n",
    "          f'Avg Type-Token Ratio teachers = {cefr_ttr_teacher:.2f}\\n'\n",
    "          f'Avg Type-Token Ratio students = {cefr_ttr_student:.2f}\\n\\n')"
   ]
  },
  {
   "cell_type": "code",
   "execution_count": null,
   "metadata": {},
   "outputs": [],
   "source": []
  }
 ],
 "metadata": {
  "kernelspec": {
   "display_name": "Python 3 (ipykernel)",
   "language": "python",
   "name": "python3"
  },
  "language_info": {
   "codemirror_mode": {
    "name": "ipython",
    "version": 3
   },
   "file_extension": ".py",
   "mimetype": "text/x-python",
   "name": "python",
   "nbconvert_exporter": "python",
   "pygments_lexer": "ipython3",
   "version": "3.11.0"
  }
 },
 "nbformat": 4,
 "nbformat_minor": 4
}